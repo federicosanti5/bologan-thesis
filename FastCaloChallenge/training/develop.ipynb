{
 "cells": [
  {
   "cell_type": "code",
   "execution_count": 1,
   "id": "6e2ac3e8",
   "metadata": {
    "ExecuteTime": {
     "end_time": "2023-10-06T22:02:22.984400Z",
     "start_time": "2023-10-06T22:02:21.992717Z"
    }
   },
   "outputs": [
    {
     "name": "stdout",
     "output_type": "stream",
     "text": [
      "The autoreload extension is already loaded. To reload it, use:\n",
      "  %reload_ext autoreload\n"
     ]
    }
   ],
   "source": [
    "%load_ext autoreload\n",
    "%autoreload 2\n",
    "%reload_ext autoreload\n",
    "%matplotlib inline"
   ]
  },
  {
   "cell_type": "code",
   "execution_count": 2,
   "id": "49d10062",
   "metadata": {
    "ExecuteTime": {
     "end_time": "2023-10-06T22:02:24.925158Z",
     "start_time": "2023-10-06T22:02:22.989124Z"
    }
   },
   "outputs": [
    {
     "name": "stderr",
     "output_type": "stream",
     "text": [
      "2023-10-07 00:02:23.300125: W tensorflow/stream_executor/platform/default/dso_loader.cc:64] Could not load dynamic library 'libcudart.so.11.0'; dlerror: libcudart.so.11.0: cannot open shared object file: No such file or directory\n",
      "2023-10-07 00:02:23.300144: I tensorflow/stream_executor/cuda/cudart_stub.cc:29] Ignore above cudart dlerror if you do not have a GPU set up on your machine.\n"
     ]
    }
   ],
   "source": [
    "import sys\n",
    "from HighLevelFeatures import HighLevelFeatures as HLF\n",
    "import numpy as np\n",
    "import h5py\n",
    "import matplotlib.pyplot as plt\n",
    "from model import WGANGP\n",
    "from train import *\n",
    "from common import *\n",
    "from evaluate import *\n",
    "from common import _split_energy\n"
   ]
  },
  {
   "cell_type": "markdown",
   "id": "fc50e514",
   "metadata": {},
   "source": [
    "## Plot statistics"
   ]
  },
  {
   "cell_type": "code",
   "execution_count": 4,
   "id": "3c3d7bae",
   "metadata": {
    "ExecuteTime": {
     "end_time": "2023-09-01T21:29:42.921406Z",
     "start_time": "2023-09-01T21:29:42.591894Z"
    }
   },
   "outputs": [],
   "source": [
    "# photon_file = h5py.File(f'{input_path}/dataset_1_photons_1.hdf5', 'r')\n",
    "# pion_file = h5py.File(f'{input_path}/dataset_1_pions_1.hdf5', 'r')\n",
    "\n",
    "photon_file = h5py.File(f'../output/dataset1/v1/splitJuly/gan_3energy_split.h5', 'r')\n",
    "pion_file = h5py.File(f'../output/dataset1/v1/splitJuly/gan_2energy_split.h5', 'r')\n",
    "\n",
    "energies1 = photon_file['incident_energies'][:]/1000\n",
    "energies2 = pion_file['incident_energies'][:]/1000\n"
   ]
  },
  {
   "cell_type": "code",
   "execution_count": 5,
   "id": "913bfbd5",
   "metadata": {
    "ExecuteTime": {
     "end_time": "2023-09-01T21:29:46.995949Z",
     "start_time": "2023-09-01T21:29:42.923783Z"
    }
   },
   "outputs": [
    {
     "data": {
      "image/png": "[encoded data removed]",
      "text/plain": [
       "<Figure size 648x216 with 1 Axes>"
      ]
     },
     "metadata": {
      "needs_background": "light"
     },
     "output_type": "display_data"
    }
   ],
   "source": [
    "bins = np.logspace(8,23,31, base=2)\n",
    "fig, ax = plt.subplots(figsize=(9, 3))\n",
    "plt.hist(energies1*1.1, bins=bins*1.1, alpha=0.8, label='Photons')\n",
    "plt.hist(energies2*0.9, bins=bins*0.9, alpha=0.8, label='Pions')\n",
    "plt.xscale('log')\n",
    "plt.xlabel('Momentum [GeV]')\n",
    "plt.ylabel('Number of events')\n",
    "plt.tick_params(axis=\"both\", which=\"major\", width=1, length=6, labelsize=10, direction=\"in\")\n",
    "plt.tick_params(axis=\"both\", which=\"minor\", width=0.5, length=3, labelsize=10, direction=\"in\")\n",
    "plt.legend()\n",
    "plt.tight_layout()\n",
    "plt.savefig('statistics.pdf')\n",
    "plt.show()"
   ]
  },
  {
   "cell_type": "markdown",
   "id": "48a4a316",
   "metadata": {
    "ExecuteTime": {
     "end_time": "2022-12-11T23:20:36.968253Z",
     "start_time": "2022-12-11T23:20:36.947635Z"
    }
   },
   "source": [
    "## Validate h5 file generated from best model"
   ]
  },
  {
   "cell_type": "code",
   "execution_count": 5,
   "id": "69095842",
   "metadata": {
    "ExecuteTime": {
     "end_time": "2023-08-20T14:50:46.692879Z",
     "start_time": "2023-08-20T14:50:11.253874Z"
    }
   },
   "outputs": [],
   "source": [
    "input_data = h5py.File(f'../input/dataset1/dataset_1_pions_1.hdf5', 'r')\n",
    "input_incident = input_data['incident_energies'][:]\n",
    "input_shower = input_data['showers'][:]"
   ]
  },
  {
   "cell_type": "code",
   "execution_count": 6,
   "id": "bdec0062",
   "metadata": {
    "ExecuteTime": {
     "end_time": "2023-08-20T14:52:01.220392Z",
     "start_time": "2023-08-20T14:50:46.694266Z"
    }
   },
   "outputs": [],
   "source": [
    "# output_data = h5py.File(f'../output/dataset1/v2/BNswish_hpo4-M1/photons_eta_20_25/selected/h5/gan.h5', 'r')\n",
    "output_data = h5py.File(f'../output/dataset1/v1/BNReLUCustActiv_hpo27-M-Pnormlayer2.2/pions_eta_20_25/selected/h5/gan.h5', 'r')\n",
    "# output_data = h5py.File(f'../output/dataset1/v1/BNswish_hpo101-M-P-L-Sge12/photons_eta_20_25/selected/h5/gan.h5', 'r')\n",
    "# output_data = h5py.File(f'../output/dataset1/v1/splitJuly/gan_2energy_split.h5', 'r')\n",
    "# output_data = h5py.File(f'../output/dataset1/v1/splitJuly/gan_3energy_split.h5', 'r')\n",
    "\n",
    "output_incident = output_data['incident_energies'][:]\n",
    "output_shower = output_data['showers'][:]"
   ]
  },
  {
   "cell_type": "code",
   "execution_count": 7,
   "id": "1dc8807a",
   "metadata": {
    "ExecuteTime": {
     "end_time": "2023-08-20T14:52:01.265142Z",
     "start_time": "2023-08-20T14:52:01.221480Z"
    }
   },
   "outputs": [
    {
     "data": {
      "text/plain": [
       "((120800, 533), (120800, 533))"
      ]
     },
     "execution_count": 7,
     "metadata": {},
     "output_type": "execute_result"
    }
   ],
   "source": [
    "input_shower.shape, output_shower.shape"
   ]
  },
  {
   "cell_type": "code",
   "execution_count": 8,
   "id": "5255953e",
   "metadata": {
    "ExecuteTime": {
     "end_time": "2023-08-20T14:52:01.316474Z",
     "start_time": "2023-08-20T14:52:01.266653Z"
    }
   },
   "outputs": [
    {
     "data": {
      "text/plain": [
       "((1000, 533), (1000, 533))"
      ]
     },
     "execution_count": 8,
     "metadata": {},
     "output_type": "execute_result"
    }
   ],
   "source": [
    "input_shower_small = input_shower[input_incident.flatten() == 4194304]\n",
    "output_shower_small = output_shower[output_incident.flatten() == 4194304]\n",
    "input_shower_small.shape, output_shower_small.shape"
   ]
  },
  {
   "cell_type": "code",
   "execution_count": 9,
   "id": "ac531f2b",
   "metadata": {
    "ExecuteTime": {
     "end_time": "2023-08-20T14:52:02.226737Z",
     "start_time": "2023-08-20T14:52:01.317502Z"
    }
   },
   "outputs": [
    {
     "data": {
      "image/png": "[encoded data removed]",
      "text/plain": [
       "<Figure size 432x288 with 1 Axes>"
      ]
     },
     "metadata": {
      "needs_background": "light"
     },
     "output_type": "display_data"
    }
   ],
   "source": [
    "# bins = np.logspace(8,23,31, base=2)\n",
    "n, bins, _ = plt.hist(input_shower_small.sum(axis=1), bins=100, alpha=0.8, label='input')\n",
    "plt.hist(output_shower_small.sum(axis=1), bins=bins, alpha=0.8, label='output')\n",
    "# plt.xscale('log')\n",
    "# plt.yscale('log')\n",
    "plt.xlabel('Energy [MeV]')\n",
    "plt.ylabel('Number of events')\n",
    "plt.tick_params(axis=\"both\", which=\"major\", width=1, length=6, labelsize=10, direction=\"in\")\n",
    "plt.tick_params(axis=\"both\", which=\"minor\", width=0.5, length=3, labelsize=10, direction=\"in\")\n",
    "plt.legend()\n",
    "plt.tight_layout()\n",
    "plt.show()"
   ]
  },
  {
   "cell_type": "markdown",
   "id": "b58e69fd",
   "metadata": {},
   "source": [
    "## Merge splitted energy"
   ]
  },
  {
   "cell_type": "code",
   "execution_count": 3,
   "id": "b00a4b88",
   "metadata": {
    "ExecuteTime": {
     "end_time": "2023-10-06T22:02:32.280298Z",
     "start_time": "2023-10-06T22:02:32.232751Z"
    }
   },
   "outputs": [],
   "source": [
    "def merge_dataset(keep_incident, keep_shower, remove_incident, remove_shower):\n",
    "    common = np.intersect1d(np.unique(keep_incident), np.unique(remove_incident))\n",
    "    remove_shower_new = remove_shower[remove_incident.flatten() != common]\n",
    "    remove_incident_new = remove_incident[remove_incident.flatten() != common]\n",
    "    if remove_incident_new.shape[0] == 1:\n",
    "        remove_incident_new = remove_incident_new[0]\n",
    "        remove_shower_new = remove_shower_new[0]\n",
    "    return np.concatenate((keep_incident, remove_incident_new)), np.concatenate((keep_shower, remove_shower_new))\n",
    "\n",
    "def gen_h5(energies, showers, output):\n",
    "    os.makedirs(os.path.dirname(output), exist_ok=True)\n",
    "    dataset_file = h5py.File(output, 'w')\n",
    "    energies = np.array(energies)\n",
    "    showers  = np.array(showers)\n",
    "    dataset_file.create_dataset('incident_energies', data=energies.reshape(len(energies), -1), compression='gzip')\n",
    "    dataset_file.create_dataset('showers', data=showers.reshape(len(showers), -1), compression='gzip')\n",
    "    print('Save h5 file to', output)\n",
    "    dataset_file.close()"
   ]
  },
  {
   "cell_type": "code",
   "execution_count": 4,
   "id": "e75741e2",
   "metadata": {
    "ExecuteTime": {
     "end_time": "2023-10-06T22:02:39.609245Z",
     "start_time": "2023-10-06T22:02:34.219274Z"
    }
   },
   "outputs": [
    {
     "name": "stdout",
     "output_type": "stream",
     "text": [
      "Save h5 file to ../output/dataset1/v1/splitJuly/gan_2energy_split.h5\n"
     ]
    }
   ],
   "source": [
    "#output_data1 = h5py.File(f'../output/dataset1/v1/BNLeakyReLU_hpo31-M-P-L-Sle12.3/photons_eta_20_25/selected/h5/gan.h5', 'r')\n",
    "#output_data2 = h5py.File(f'../output/dataset1/v1/BNswish_hpo101-M-P-L-Sge12/photons_eta_20_25/selected/h5/gan.h5', 'r')\n",
    "#output_data3 = h5py.File(f'../output/dataset1/v1/BNswish_hpo101-M-P-L-Sge12le18.2/photons_eta_20_25/selected/h5/gan.h5', 'r')\n",
    "#output_data4 = h5py.File(f'../output/dataset1/v1/BNswish_hpo101-M-P-L-Sge18/photons_eta_20_25/selected/h5/gan.h5', 'r')\n",
    "low12 = f'../output/dataset1/v1/BNswishCustActiv_hpo113-M-Pnormlayer2-L-Sle12.1/photons_eta_20_25/selected/h5/gan.h5'\n",
    "high12 = f'../output/dataset1/v1/BNswishCustActiv_hpo113-M-Pnormlayer2-L-Sge12/photons_eta_20_25/selected/h5/gan.h5'\n",
    "high12low18 = f'../output/dataset1/v1/BNswishCustActiv_hpo113-M-Pnormlayer2-L-ge12le18.1/photons_eta_20_25/selected/h5/gan.h5'\n",
    "high18 = f'../output/dataset1/v1/BNswishCustMichele_hpo117-M-PnormlayerMichele-L-ge18.Michele/photons_eta_20_25/selected/h5/gan.h5'\n",
    "output_data1 = h5py.File(low12, 'r')\n",
    "output_data2 = h5py.File(high12, 'r')\n",
    "output_data3 = h5py.File(high12low18, 'r')\n",
    "output_data4 = h5py.File(high18, 'r')\n",
    "output = '../output/dataset1/v1/splitJuly/'\n",
    "\n",
    "###########  1      2       3         4\n",
    "###########  le12   ge12    ge12le18  g18\n",
    "## 4.1 MeV   1.9    2.2     2.1\n",
    "## 262.1GeV                 2.5       2.0\n",
    "\n",
    "keep_incident = output_data2['incident_energies'][:]\n",
    "keep_shower = output_data2['showers'][:]\n",
    "remove_incident = output_data1['incident_energies'][:]\n",
    "remove_shower = output_data1['showers'][:]\n",
    "energies, showers = merge_dataset(keep_incident, keep_shower, remove_incident, remove_shower)\n",
    "gen_h5(energies, showers, os.path.join(output, 'gan_2energy_split.h5'))\n",
    "\n"
   ]
  },
  {
   "cell_type": "code",
   "execution_count": 22,
   "id": "751d2a47",
   "metadata": {
    "ExecuteTime": {
     "end_time": "2023-10-06T22:12:51.311546Z",
     "start_time": "2023-10-06T22:12:45.734361Z"
    }
   },
   "outputs": [
    {
     "name": "stdout",
     "output_type": "stream",
     "text": [
      "Save h5 file to ../output/dataset1/v1/splitJuly/gan_3energy_split.h5\n"
     ]
    }
   ],
   "source": [
    "keep_incident = output_data3['incident_energies'][:]\n",
    "keep_shower = output_data3['showers'][:]\n",
    "remove_incident = output_data1['incident_energies'][:]\n",
    "remove_shower = output_data1['showers'][:]\n",
    "remove2_incident, remove2_shower = merge_dataset(keep_incident, keep_shower, remove_incident, remove_shower)\n",
    "\n",
    "keep2_incident = output_data4['incident_energies'][:]\n",
    "keep2_shower = output_data4['showers'][:]\n",
    "remove3_incident, remove3_shower = merge_dataset(keep2_incident, keep2_shower, remove2_incident, remove2_shower)\n",
    "\n",
    "gen_h5(remove3_incident, remove3_shower, os.path.join(output, 'gan_3energy_split.h5'))\n",
    "\n"
   ]
  },
  {
   "cell_type": "code",
   "execution_count": 18,
   "id": "491c79d3",
   "metadata": {
    "ExecuteTime": {
     "end_time": "2023-10-06T22:09:19.583993Z",
     "start_time": "2023-10-06T22:09:19.536165Z"
    }
   },
   "outputs": [
    {
     "data": {
      "text/plain": [
       "((21000, 1), (21000, 368), (121000, 1), (121000, 368))"
      ]
     },
     "execution_count": 18,
     "metadata": {},
     "output_type": "execute_result"
    }
   ],
   "source": [
    "keep2_incident.shape, keep2_shower.shape, remove2_incident.shape, remove2_shower.shape"
   ]
  },
  {
   "cell_type": "code",
   "execution_count": 24,
   "id": "f4c72032",
   "metadata": {
    "ExecuteTime": {
     "end_time": "2023-10-06T22:13:06.442575Z",
     "start_time": "2023-10-06T22:13:06.383406Z"
    }
   },
   "outputs": [],
   "source": [
    "gan2 = f'../output/dataset1/v1/splitJuly/gan_2energy_split.h5'\n",
    "gan3 = f'../output/dataset1/v1/splitJuly/gan_3energy_split.h5'\n",
    "output_gan2 = h5py.File(gan2, 'r')\n",
    "output_gan3 = h5py.File(gan3, 'r')"
   ]
  },
  {
   "cell_type": "code",
   "execution_count": 25,
   "id": "f7888ca2",
   "metadata": {
    "ExecuteTime": {
     "end_time": "2023-10-06T22:13:06.912286Z",
     "start_time": "2023-10-06T22:13:06.811166Z"
    },
    "scrolled": true
   },
   "outputs": [
    {
     "data": {
      "text/plain": [
       "(array([1048576.]),\n",
       " array([  857.62744   ,   136.8528    ,   170.02324   ,    71.243256  ,\n",
       "          197.43582   ,   224.03748   ,   315.17368   ,     9.546662  ,\n",
       "         3599.2507    ,  1522.3857    ,   520.9956    ,   482.87634   ,\n",
       "          361.36594   ,   182.48288   ,   237.29      ,   301.8787    ,\n",
       "           70.73656   ,   123.82303   ,    43.554688  ,    55.57307   ,\n",
       "           20.634867  ,    31.862736  ,    15.229047  ,     8.086292  ,\n",
       "         3367.6897    ,  1006.9653    ,   696.0273    ,   604.285     ,\n",
       "          420.91275   ,   270.49405   ,   240.81389   ,   275.87827   ,\n",
       "           87.13384   ,   121.127754  ,    46.03906   ,    80.67387   ,\n",
       "            8.318858  ,     7.158717  ,    17.29661   ,    10.950831  ,\n",
       "         4349.0645    ,  1082.5897    ,   813.2533    ,   582.7933    ,\n",
       "          447.50778   ,   280.0273    ,   269.6241    ,   203.35162   ,\n",
       "          150.1346    ,   115.695724  ,    15.845     ,    13.484341  ,\n",
       "           87.0815    ,    22.083788  ,    11.052703  ,    16.922226  ,\n",
       "         2177.0154    ,   888.39716   ,   923.5023    ,   390.21844   ,\n",
       "          199.36577   ,   217.56013   ,   222.96404   ,   203.50061   ,\n",
       "           92.0074    ,    84.85583   ,   105.56535   ,    42.33667   ,\n",
       "           61.42922   ,    81.8039    ,    25.63661   ,    43.25959   ,\n",
       "         2660.5066    ,  1047.9642    ,   511.5966    ,   604.6865    ,\n",
       "          315.004     ,   215.034     ,   286.24847   ,   232.82391   ,\n",
       "          227.04802   ,   155.82814   ,    63.661964  ,   250.27184   ,\n",
       "           81.53858   ,    37.9039    ,    28.037216  ,    84.77462   ,\n",
       "         1245.4818    ,   990.6773    ,   592.28296   ,   357.77954   ,\n",
       "          332.5064    ,   200.63568   ,   231.62889   ,   212.39403   ,\n",
       "          228.03406   ,    75.65386   ,    56.326633  ,   172.5459    ,\n",
       "          162.22726   ,    65.04617   ,    34.117012  ,    65.72698   ,\n",
       "         1714.8982    ,  1304.611     ,   729.1989    ,   657.5857    ,\n",
       "          334.5448    ,   407.08002   ,   299.46262   ,   370.60675   ,\n",
       "          221.737     ,    72.97241   ,    96.0027    ,   191.6674    ,\n",
       "           48.282906  ,    41.50434   ,    28.077017  ,     8.011865  ,\n",
       "         3743.807     ,   850.0498    ,   721.4148    ,   370.57      ,\n",
       "          265.63562   ,   182.47461   ,   203.34026   ,   190.68533   ,\n",
       "          198.34293   ,    47.217403  ,    40.502586  ,    41.45719   ,\n",
       "           52.23159   ,    51.7183    ,    19.647358  ,    77.97442   ,\n",
       "         7305.9526    ,  1126.2578    ,   726.7766    ,   453.26694   ,\n",
       "          348.27267   ,   275.97644   ,   219.47466   ,   149.39954   ,\n",
       "          109.62634   ,    49.179214  ,    78.82464   ,    48.130455  ,\n",
       "           19.096758  ,     6.954037  ,     4.6086893 ,     4.9580417 ,\n",
       "         3960.9673    ,  1585.3916    ,   553.68475   ,   353.5122    ,\n",
       "          205.89185   ,   220.83632   ,   160.99313   ,   174.21036   ,\n",
       "          236.78618   ,    99.957756  ,    41.9693    ,   177.38893   ,\n",
       "           74.97579   ,    11.871999  ,     1.2186362 ,    10.365824  ,\n",
       "        61450.418     ,  5628.2593    , 14805.677     , 10155.084     ,\n",
       "         5831.5317    ,  3803.9219    ,  2742.3508    ,  4848.9043    ,\n",
       "         3688.611     ,  1495.4347    ,  2647.748     ,  1462.592     ,\n",
       "         1400.3567    ,   468.40564   ,   434.03247   ,   133.96658   ,\n",
       "           26.210766  ,     0.8081337 ,     0.00005339, 40756.926     ,\n",
       "         1771.6302    , 24149.234     , 10778.856     ,  8161.209     ,\n",
       "         4365.774     ,  2474.221     ,  4139.016     ,  2463.299     ,\n",
       "         1966.5786    ,  2015.669     ,  1106.8746    ,  1013.2025    ,\n",
       "          577.3638    ,   188.86606   ,    60.896305  ,   138.82834   ,\n",
       "            3.4270709 ,     3.7389004 , 40916.402     ,  3552.9973    ,\n",
       "        23291.248     ,  8728.454     ,  6928.828     ,  4504.484     ,\n",
       "         4041.0627    ,  5366.667     ,  2995.781     ,  1482.708     ,\n",
       "         1832.2515    ,  1184.3031    ,  1049.7633    ,   617.73376   ,\n",
       "          358.48016   ,   225.8178    ,   135.98407   ,    14.0864105 ,\n",
       "            0.05483027, 21439.998     ,  8587.951     , 17775.652     ,\n",
       "        12634.711     ,  7421.3833    ,  5384.9004    ,  2816.0718    ,\n",
       "         4384.9297    ,  2674.9812    ,  1802.5962    ,  1750.8645    ,\n",
       "         1108.421     ,  1352.585     ,   457.46252   ,   690.14496   ,\n",
       "          160.69359   ,    10.184333  ,    23.640339  ,    12.011825  ,\n",
       "          869.1986    ,  3269.2952    , 16795.635     ,  8822.01      ,\n",
       "         7789.2227    ,  4212.9556    ,  3492.349     ,  5044.3667    ,\n",
       "         3770.6755    ,  2273.2954    ,  1778.7891    ,  1510.417     ,\n",
       "          818.5059    ,   430.53345   ,   492.48502   ,    99.85246   ,\n",
       "           16.734072  ,   120.98123   ,     0.8593511 ,   491.9609    ,\n",
       "         6370.1274    , 23427.49      , 11093.428     ,  8672.982     ,\n",
       "         4450.4053    ,  3692.9185    ,  4367.3667    ,  2802.6973    ,\n",
       "         1780.4543    ,  1956.8538    ,  1357.183     ,  1527.2312    ,\n",
       "          595.885     ,   436.8561    ,   203.78528   ,    25.087479  ,\n",
       "           10.151916  ,     0.79312754, 16903.793     ,  4221.877     ,\n",
       "        21468.506     , 11954.085     ,  5937.7974    ,  5538.1772    ,\n",
       "         4181.457     ,  4036.9927    ,  2101.0032    ,  1659.0742    ,\n",
       "         2201.1274    ,  1352.4236    ,  1109.0286    ,   719.5633    ,\n",
       "          137.81033   ,   163.93004   ,    48.601704  ,    10.186927  ,\n",
       "            0.01675637, 26426.754     , 16346.945     , 17576.527     ,\n",
       "        13084.639     ,  6522.136     ,  5923.875     ,  3914.5415    ,\n",
       "         4727.743     ,  2966.1543    ,  2173.1208    ,  1762.3247    ,\n",
       "         1186.271     ,   759.7411    ,   480.17157   ,   190.90755   ,\n",
       "          308.28094   ,   781.4344    ,     6.681393  ,    69.085846  ,\n",
       "        32151.92      ,  1911.0347    , 24343.738     , 13170.347     ,\n",
       "         9208.708     ,  3950.0664    ,  3096.288     ,  4894.821     ,\n",
       "         4559.8423    ,  1941.4586    ,  1899.5397    ,  1813.8583    ,\n",
       "          985.1124    ,   559.73065   ,   396.27988   ,   274.04187   ,\n",
       "          136.0741    ,     5.2966948 ,     0.40631214, 22060.143     ,\n",
       "         7866.42      , 23597.375     , 13497.864     ,  6243.345     ,\n",
       "         4978.4214    ,  3346.1763    ,  4684.531     ,  2434.0842    ,\n",
       "         2234.8396    ,  2724.1343    ,  1542.1033    ,   894.5396    ,\n",
       "          601.2572    ,   189.55571   ,   233.02113   ,    27.77136   ,\n",
       "           19.184336  ,     0.5802921 ,  2986.3699    ,  1308.5929    ,\n",
       "          681.0952    ,   205.24104   ,     1.1358305 ,  1103.0175    ,\n",
       "          779.4871    ,   494.8838    ,    85.88286   ,     0.85364854],\n",
       "       dtype=float32))"
      ]
     },
     "execution_count": 25,
     "metadata": {},
     "output_type": "execute_result"
    }
   ],
   "source": [
    "output_gan2['incident_energies'][2], output_gan2['showers'][2]\n"
   ]
  },
  {
   "cell_type": "code",
   "execution_count": 26,
   "id": "d1e65600",
   "metadata": {
    "ExecuteTime": {
     "end_time": "2023-10-06T22:13:09.053339Z",
     "start_time": "2023-10-06T22:13:08.954207Z"
    },
    "scrolled": true
   },
   "outputs": [
    {
     "data": {
      "text/plain": [
       "(array([262144.]),\n",
       " array([  212.91757   ,     0.00097337,     0.00187234,     3.4308352 ,\n",
       "           13.408962  ,    23.63064   ,     1.9980791 ,     3.5197952 ,\n",
       "         1324.3192    ,   194.69551   ,    63.443104  ,   135.3466    ,\n",
       "           69.21023   ,    43.677433  ,    33.75696   ,    36.92214   ,\n",
       "            9.17078   ,     9.9337435 ,    13.645475  ,     4.882561  ,\n",
       "            1.4947007 ,     0.6846124 ,     0.12965833,     3.0969324 ,\n",
       "          733.5206    ,   280.50354   ,   211.30919   ,    75.15857   ,\n",
       "          100.24838   ,    74.78077   ,    63.81709   ,    78.26654   ,\n",
       "           27.371994  ,    37.37782   ,     1.6785845 ,     0.16825712,\n",
       "            0.80785453,    36.675163  ,    11.520609  ,     0.1622596 ,\n",
       "          575.02185   ,   435.55618   ,   223.74971   ,   122.15301   ,\n",
       "           85.86265   ,    84.84292   ,   101.21454   ,    71.37649   ,\n",
       "           18.308435  ,    17.485565  ,    28.369493  ,     7.260755  ,\n",
       "            2.1723182 ,     3.166068  ,     3.3595567 ,     0.8992119 ,\n",
       "          543.3416    ,   267.40823   ,   256.82397   ,   139.65132   ,\n",
       "           99.572716  ,   106.92663   ,    71.00795   ,    57.313038  ,\n",
       "           58.26727   ,    24.050314  ,     5.794769  ,     8.279186  ,\n",
       "            6.4645963 ,     5.003659  ,     0.68328303,     0.2584374 ,\n",
       "          522.2816    ,   280.3229    ,   100.52999   ,   140.66669   ,\n",
       "           94.031784  ,    33.624226  ,    38.475216  ,    35.006348  ,\n",
       "           41.061653  ,    14.322446  ,    13.447381  ,     7.141707  ,\n",
       "           13.214099  ,     4.907143  ,     6.13876   ,     0.6469699 ,\n",
       "          958.49713   ,   225.04428   ,   148.64845   ,   123.63419   ,\n",
       "           74.16497   ,    93.76556   ,   133.54575   ,    79.83894   ,\n",
       "           30.59174   ,     9.613031  ,    14.22627   ,    17.911837  ,\n",
       "            5.070806  ,    24.235197  ,   156.89307   ,     3.5049474 ,\n",
       "          723.34393   ,   262.6529    ,   210.1727    ,   167.55437   ,\n",
       "           69.53835   ,    59.58608   ,    58.41106   ,    98.71109   ,\n",
       "           27.568823  ,     4.2209473 ,     3.3283556 ,     3.923669  ,\n",
       "            0.75803167,    10.521474  ,     0.8060076 ,     0.54926693,\n",
       "          953.2907    ,   230.8518    ,   172.26614   ,   105.8639    ,\n",
       "           89.46421   ,    68.559685  ,    35.463444  ,    28.447588  ,\n",
       "            9.13616   ,     2.249618  ,    13.117582  ,    13.49727   ,\n",
       "            1.3629588 ,    13.540086  ,    11.09281   ,     6.3326344 ,\n",
       "          274.97003   ,   260.66464   ,   145.36346   ,   118.98632   ,\n",
       "          110.153     ,    25.70056   ,    55.600555  ,    53.130264  ,\n",
       "           33.036392  ,    35.90447   ,     2.942711  ,     9.394591  ,\n",
       "            1.0287691 ,     4.385714  ,     0.1324333 ,     6.589792  ,\n",
       "         1107.5146    ,   379.78882   ,    91.43676   ,   115.665565  ,\n",
       "           71.76452   ,    46.8015    ,    30.086052  ,    64.450836  ,\n",
       "           31.809265  ,     6.479502  ,     5.371717  ,     2.4199896 ,\n",
       "           10.345292  ,    19.1977    ,     0.8724051 ,     1.302785  ,\n",
       "         5869.993     ,  1530.0795    ,  5020.852     ,  1847.2509    ,\n",
       "         2861.042     ,  1016.86456   ,   765.1377    ,   853.6825    ,\n",
       "          636.69037   ,   545.71936   ,   500.88434   ,   338.5288    ,\n",
       "          333.65576   ,    54.924603  ,    36.231903  ,     3.3510437 ,\n",
       "            8.901889  ,     0.64878374,     0.11766225,  3757.0364    ,\n",
       "          717.27673   ,  3016.56      ,  2190.875     ,  1938.3015    ,\n",
       "         1356.4696    ,   891.37103   ,  1005.1606    ,   722.60205   ,\n",
       "          429.4829    ,   520.80035   ,   292.54724   ,   181.94835   ,\n",
       "           51.058052  ,   174.75139   ,    52.596157  ,    46.952515  ,\n",
       "            0.07276472,     0.00091959, 12986.478     ,  2600.334     ,\n",
       "         4495.0156    ,  2205.802     ,  2192.2144    ,  1119.9337    ,\n",
       "          604.7781    ,  1041.454     ,   586.8037    ,   494.58524   ,\n",
       "          587.9531    ,   385.23334   ,   209.6108    ,    91.8517    ,\n",
       "           44.399345  ,    36.987587  ,     2.3172364 ,     0.00426021,\n",
       "            0.001096  ,  3103.0183    ,  1744.6677    ,  4950.986     ,\n",
       "         3289.501     ,  1948.3418    ,  1191.2136    ,   917.6503    ,\n",
       "         1179.5621    ,   580.5288    ,   548.3555    ,   685.3669    ,\n",
       "          316.07755   ,   247.47063   ,   230.68846   ,    87.03322   ,\n",
       "            2.1806698 ,     2.1282558 ,     0.3972734 ,     0.00029865,\n",
       "         3552.1553    ,  2133.4148    ,  5092.5737    ,  2661.9707    ,\n",
       "         2489.4194    ,   959.5213    ,   987.28796   ,   974.7218    ,\n",
       "          853.75616   ,   538.29266   ,   581.5568    ,   326.00458   ,\n",
       "          330.00592   ,   104.41278   ,    26.10663   ,   157.15968   ,\n",
       "            1.2502819 ,     0.00468199,     0.01228619,  1677.4673    ,\n",
       "          871.0831    ,  5468.6763    ,  2555.0916    ,  1940.0125    ,\n",
       "         1117.5281    ,   881.9719    ,  1311.3143    ,   576.72406   ,\n",
       "          379.90305   ,   525.68054   ,   296.82913   ,   289.6148    ,\n",
       "          142.49652   ,    31.313828  ,    32.97334   ,     0.15620902,\n",
       "            0.97754085,     0.08030482,  1831.8615    ,  2994.9053    ,\n",
       "         7598.1064    ,  2385.4443    ,  2057.943     ,  1590.8966    ,\n",
       "          934.0579    ,  1372.6378    ,   749.9378    ,   532.27655   ,\n",
       "          706.3864    ,   258.29327   ,   287.97064   ,   155.90579   ,\n",
       "           88.74261   ,    91.847244  ,     1.9382482 ,     0.10520414,\n",
       "            0.13879056, 15021.596     ,  3269.905     ,  5091.628     ,\n",
       "         3496.7092    ,  1809.3848    ,  1308.2328    ,  1111.5114    ,\n",
       "         1308.0916    ,   740.72375   ,   513.7297    ,   615.9711    ,\n",
       "          320.16785   ,   216.65895   ,   109.778404  ,    21.98516   ,\n",
       "           19.704636  ,    83.45227   ,     1.2837112 ,     0.00000724,\n",
       "         9965.22      ,  1236.9291    ,  4648.414     ,  2748.0054    ,\n",
       "         1995.567     ,  1291.0233    ,  1035.166     ,  1184.7334    ,\n",
       "          567.7739    ,   554.87775   ,   637.3693    ,   489.4996    ,\n",
       "          188.86833   ,   111.354034  ,    37.789955  ,    28.025425  ,\n",
       "            5.505282  ,     0.69633144,     0.56081724,  3362.0747    ,\n",
       "         1328.1775    ,  5144.238     ,  2057.7021    ,  2018.0276    ,\n",
       "         1429.1383    ,  1002.65375   ,  1082.6267    ,   632.3937    ,\n",
       "          458.85312   ,   651.24445   ,   335.83182   ,   250.04103   ,\n",
       "           43.037838  ,    89.36854   ,    28.506372  ,     0.1108195 ,\n",
       "            0.74357456,     0.01225394,  1063.345     ,   316.8689    ,\n",
       "          194.5423    ,    29.191942  ,     0.2139674 ,   370.62592   ,\n",
       "          341.40213   ,   329.36826   ,    47.391254  ,     0.01633854],\n",
       "       dtype=float32))"
      ]
     },
     "execution_count": 26,
     "metadata": {},
     "output_type": "execute_result"
    }
   ],
   "source": [
    "output_gan3['incident_energies'][2], output_gan3['showers'][2]\n"
   ]
  },
  {
   "cell_type": "code",
   "execution_count": 15,
   "id": "272ead88",
   "metadata": {
    "ExecuteTime": {
     "end_time": "2023-10-06T22:07:14.066815Z",
     "start_time": "2023-10-06T22:07:14.013442Z"
    }
   },
   "outputs": [
    {
     "data": {
      "text/plain": [
       "array([[  16384.],\n",
       "       [ 524288.],\n",
       "       [1048576.],\n",
       "       [  16384.],\n",
       "       [   8192.],\n",
       "       [  65536.],\n",
       "       [   8192.],\n",
       "       [  32768.],\n",
       "       [ 262144.],\n",
       "       [   4096.],\n",
       "       [ 131072.],\n",
       "       [ 131072.],\n",
       "       [  65536.],\n",
       "       [ 262144.],\n",
       "       [ 131072.],\n",
       "       [  65536.],\n",
       "       [  65536.],\n",
       "       [ 131072.],\n",
       "       [ 524288.],\n",
       "       [   4096.]])"
      ]
     },
     "execution_count": 15,
     "metadata": {},
     "output_type": "execute_result"
    }
   ],
   "source": [
    "output_gan2['incident_energies'][:20]"
   ]
  },
  {
   "cell_type": "code",
   "execution_count": 20,
   "id": "2f110f77",
   "metadata": {
    "ExecuteTime": {
     "end_time": "2023-10-06T22:12:35.617008Z",
     "start_time": "2023-10-06T22:12:35.565992Z"
    }
   },
   "outputs": [],
   "source": [
    "output_gan2.close()"
   ]
  },
  {
   "cell_type": "code",
   "execution_count": 21,
   "id": "ba08591a",
   "metadata": {
    "ExecuteTime": {
     "end_time": "2023-10-06T22:12:41.107039Z",
     "start_time": "2023-10-06T22:12:41.055468Z"
    }
   },
   "outputs": [],
   "source": [
    "output_gan3.close()"
   ]
  },
  {
   "cell_type": "code",
   "execution_count": null,
   "id": "8df5a9d3",
   "metadata": {},
   "outputs": [],
   "source": []
  }
 ],
 "metadata": {
  "kernelspec": {
   "display_name": "Python 3 (ipykernel)",
   "language": "python",
   "name": "python3"
  },
  "language_info": {
   "codemirror_mode": {
    "name": "ipython",
    "version": 3
   },
   "file_extension": ".py",
   "mimetype": "text/x-python",
   "name": "python",
   "nbconvert_exporter": "python",
   "pygments_lexer": "ipython3",
   "version": "3.8.12"
  }
 },
 "nbformat": 4,
 "nbformat_minor": 5
}
